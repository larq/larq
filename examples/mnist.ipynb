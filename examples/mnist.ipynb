{
  "cells": [
    {
      "cell_type": "markdown",
      "source": [
        "# Binarized Convolutional Neural Networks"
      ],
      "metadata": {
        "id": "DSPCom-KmApV",
        "colab_type": "text"
      }
    },
    {
      "cell_type": "markdown",
      "source": [
        "This tutorial demonstrates training a simple Binarized Convolutional Neural Network to classify MNIST digits. This simple network will achieve over 98% accuracy on the MNIST test set. Because this tutorial uses Larq and the [Keras Sequential API](https://www.tensorflow.org/guide/keras), creating and training our model will take just a few lines of code."
      ],
      "metadata": {
        "colab_type": "text",
        "id": "qLGkt5qiyz4E"
      }
    },
    {
      "cell_type": "markdown",
      "source": [
        "### Import TensorFlow and Larq"
      ],
      "metadata": {
        "colab_type": "text",
        "id": "m7KBpffWzlxH"
      }
    },
    {
      "cell_type": "code",
      "source": [
        "import tensorflow as tf\n",
        "import larq as lq"
      ],
      "outputs": [],
      "execution_count": 1,
      "metadata": {
        "colab_type": "code",
        "id": "iAve6DCL4JH4",
        "colab": {}
      }
    },
    {
      "cell_type": "markdown",
      "source": [
        "### Download and prepare the MNIST dataset"
      ],
      "metadata": {
        "colab_type": "text",
        "id": "jRFxccghyMVo"
      }
    },
    {
      "cell_type": "code",
      "source": [
        "(train_images, train_labels), (test_images, test_labels) = tf.keras.datasets.mnist.load_data()\n",
        "\n",
        "train_images = train_images.reshape((60000, 28, 28, 1))\n",
        "test_images = test_images.reshape((10000, 28, 28, 1))\n",
        "\n",
        "# Normalize pixel values to be between -1 and 1\n",
        "train_images, test_images = train_images / 127.5 - 1, test_images / 127.5 - 1"
      ],
      "outputs": [],
      "execution_count": 2,
      "metadata": {
        "colab_type": "code",
        "id": "JWoEqyMuXFF4",
        "colab": {}
      }
    },
    {
      "cell_type": "markdown",
      "source": [
        "### Create the model\n",
        "\n",
        "This will create a simple binarized convolutional network.\n",
        "\n",
        "In the forward pass the quantization function\n",
        "$$\n",
        "q(x) = \\begin{cases}\n",
        "    -1 & x < 0 \\\\\\\n",
        "    1 & x \\geq 0\n",
        "\\end{cases}\n",
        "$$\n",
        "is used to binarize the activations and the latent full precision weights. The gradient of this function is zero almost everywhere which prevents the model from learning.\n",
        "\n",
        "To be able to train the model the gradient is instead estimated using the Straight-Through Estimator (STE)\n",
        "(essentially the binarization is replaced by a clipped identity on the backward pass):\n",
        "$$\n",
        "\\frac{\\partial q(x)}{\\partial x} = \\begin{cases}\n",
        "    1 & \\left|x\\right| \\leq 1 \\\\\\\n",
        "    0 & \\left|x\\right| > 1\n",
        "\\end{cases}\n",
        "$$\n",
        "\n",
        "In larq this can be done by using `input_quantizer=\"ste_sign\"` and `kernel_quantizer=\"ste_sign\"`.\n",
        "Additionally the latent full precision weights are clipped to be between -1 and 1 using `kernel_constraint=\"weight_clip\"`."
      ],
      "metadata": {
        "colab_type": "text",
        "id": "Oewp-wYg31t9"
      }
    },
    {
      "cell_type": "code",
      "source": [
        "kwargs = dict(input_quantizer=\"ste_sign\", kernel_quantizer=\"ste_sign\", kernel_constraint=\"weight_clip\")\n",
        "\n",
        "model = tf.keras.models.Sequential()\n",
        "\n",
        "model.add(lq.layers.QuantConv2D(32, (3, 3), kernel_quantizer=\"ste_sign\", kernel_constraint=\"weight_clip\", use_bias=False, input_shape=(28, 28, 1)))\n",
        "model.add(tf.keras.layers.MaxPooling2D((2, 2)))\n",
        "model.add(tf.keras.layers.BatchNormalization(scale=False))\n",
        "\n",
        "model.add(lq.layers.QuantConv2D(64, (3, 3), use_bias=False, **kwargs))\n",
        "model.add(tf.keras.layers.MaxPooling2D((2, 2)))\n",
        "model.add(tf.keras.layers.BatchNormalization(scale=False))\n",
        "\n",
        "model.add(lq.layers.QuantConv2D(64, (3, 3), use_bias=False, **kwargs))\n",
        "model.add(tf.keras.layers.BatchNormalization(scale=False))\n",
        "model.add(tf.keras.layers.Flatten())\n",
        "\n",
        "model.add(lq.layers.QuantDense(64, use_bias=False, **kwargs))\n",
        "model.add(tf.keras.layers.BatchNormalization(scale=False))\n",
        "model.add(lq.layers.QuantDense(10, use_bias=False, **kwargs))\n",
        "model.add(tf.keras.layers.BatchNormalization(scale=False))\n",
        "model.add(tf.keras.layers.Activation(\"softmax\"))"
      ],
      "outputs": [],
      "execution_count": 20,
      "metadata": {
        "colab_type": "code",
        "id": "L9YmGQBQPrdn",
        "colab": {}
      }
    },
    {
      "cell_type": "markdown",
      "source": [
        " Here's the complete architecture of our model.\n",
        " \n",
        " Almost all parameter of the network a binarized (either -1 or 1). This will make the network extremly fast when deployed on a embedded device that supports binarized neural networks."
      ],
      "metadata": {
        "colab_type": "text",
        "id": "lvDVFkg-2DPm"
      }
    },
    {
      "cell_type": "code",
      "source": [
        "model.summary()"
      ],
      "outputs": [
        {
          "output_type": "stream",
          "name": "stdout",
          "text": [
            "_________________________________________________________________\n",
            "Layer (type)                 Output Shape              Param #   \n",
            "=================================================================\n",
            "quant_conv2d_18 (QuantConv2D (None, 26, 26, 32)        288       \n",
            "_________________________________________________________________\n",
            "max_pooling2d_12 (MaxPooling (None, 13, 13, 32)        0         \n",
            "_________________________________________________________________\n",
            "batch_normalization_v1_20 (B (None, 13, 13, 32)        96        \n",
            "_________________________________________________________________\n",
            "quant_conv2d_19 (QuantConv2D (None, 11, 11, 64)        18432     \n",
            "_________________________________________________________________\n",
            "max_pooling2d_13 (MaxPooling (None, 5, 5, 64)          0         \n",
            "_________________________________________________________________\n",
            "batch_normalization_v1_21 (B (None, 5, 5, 64)          192       \n",
            "_________________________________________________________________\n",
            "quant_conv2d_20 (QuantConv2D (None, 3, 3, 64)          36864     \n",
            "_________________________________________________________________\n",
            "batch_normalization_v1_22 (B (None, 3, 3, 64)          192       \n",
            "_________________________________________________________________\n",
            "flatten_6 (Flatten)          (None, 576)               0         \n",
            "_________________________________________________________________\n",
            "quant_dense_6 (QuantDense)   (None, 64)                36864     \n",
            "_________________________________________________________________\n",
            "batch_normalization_v1_23 (B (None, 64)                192       \n",
            "_________________________________________________________________\n",
            "quant_dense_7 (QuantDense)   (None, 10)                640       \n",
            "_________________________________________________________________\n",
            "batch_normalization_v1_24 (B (None, 10)                30        \n",
            "_________________________________________________________________\n",
            "activation_6 (Activation)    (None, 10)                0         \n",
            "=================================================================\n",
            "Total params: 93,790\n",
            "Trainable params: 93,322\n",
            "Non-trainable params: 468\n",
            "_________________________________________________________________\n"
          ]
        }
      ],
      "execution_count": 21,
      "metadata": {
        "colab_type": "code",
        "id": "8-C4XBg4UTJy",
        "colab": {}
      }
    },
    {
      "cell_type": "markdown",
      "source": [
        "### Compile and train the model\n",
        "\n",
        "Note: This may take a few minutes depending on your system."
      ],
      "metadata": {
        "colab_type": "text",
        "id": "P3odqfHP4M67"
      }
    },
    {
      "cell_type": "code",
      "source": [
        "model.compile(optimizer='adam',\n",
        "              loss='sparse_categorical_crossentropy',\n",
        "              metrics=['accuracy'])\n",
        "\n",
        "model.fit(train_images, train_labels, batch_size=64, epochs=6)\n",
        "\n",
        "test_loss, test_acc = model.evaluate(test_images, test_labels)"
      ],
      "outputs": [
        {
          "output_type": "stream",
          "name": "stdout",
          "text": [
            "Epoch 1/6\n",
            "60000/60000 [==============================] - 72s 1ms/sample - loss: 0.6494 - acc: 0.9070\b\b\b\b\b\b\b\b\b\b\b\b\b\b\b\b\b\b\b\b\b\b\b\b\b\b\b\b\b\b\b\b\b\b\b\b\b\b\b\b\b\b\b\b\b\b\b\b\b\b\b\b\b\b\b\b\b\b\b\b\b\b\b\b\b\b\b\b\b\b\b\b\b\b\b\b\b\b\b\b\b\b\n",
            "Epoch 2/6\n",
            "60000/60000 [==============================] - 67s 1ms/sample - loss: 0.4760 - acc: 0.9606\b\b\b\b\b\b\b\b\b\b\b\b\b\b\b\b\b\b\b\b\b\b\b\b\b\b\b\b\b\b\b\b\b\b\b\b\b\b\b\b\b\b\b\b\b\b\b\b\b\b\b\b\b\b\b\b\b\b\b\b\b\b\b\b\b\b\b\b\b\b\b\b\b\b\b\b\b\b\b\b\n",
            "Epoch 3/6\n",
            "60000/60000 [==============================] - 67s 1ms/sample - loss: 0.4480 - acc: 0.9691\b\b\b\b\b\b\b\b\b\b\b\b\b\b\b\b\b\b\b\b\b\b\b\b\b\b\b\b\b\b\b\b\b\b\b\b\b\b\b\b\b\b\b\b\b\b\b\b\b\b\b\b\b\b\b\b\b\b\b\b\b\b\b\b\b\b\b\b\b\b\b\b\b\b\b\b\b\b\b\b\n",
            "Epoch 4/6\n",
            "60000/60000 [==============================] - 68s 1ms/sample - loss: 0.4365 - acc: 0.9718\b\b\b\b\b\b\b\b\b\b\b\b\b\b\b\b\b\b\b\b\b\b\b\b\b\b\b\b\b\b\b\b\b\b\b\b\b\b\b\b\b\b\b\b\b\b\b\b\b\b\b\b\b\b\b\b\b\b\b\b\b\b\b\b\b\b\b\b\b\b\b\b\b\b\b\b\b\b\b\b\n",
            "Epoch 5/6\n",
            "60000/60000 [==============================] - 68s 1ms/sample - loss: 0.4329 - acc: 0.9739\b\b\b\b\b\b\b\b\b\b\b\b\b\b\b\b\b\b\b\b\b\b\b\b\b\b\b\b\b\b\b\b\b\b\b\b\b\b\b\b\b\b\b\b\b\b\b\b\b\b\b\b\b\b\b\b\b\b\b\b\b\b\b\b\b\b\b\b\b\b\b\b\b\b\b\b\b\b\b\b\n",
            "Epoch 6/6\n",
            "60000/60000 [==============================] - 68s 1ms/sample - loss: 0.4287 - acc: 0.9758\b\b\b\b\b\b\b\b\b\b\b\b\b\b\b\b\b\b\b\b\b\b\b\b\b\b\b\b\b\b\b\b\b\b\b\b\b\b\b\b\b\b\b\b\b\b\b\b\b\b\b\b\b\b\b\b\b\b\b\b\b\b\b\b\b\b\b\b\b\b\b\b\b\b\b\b\b\b\b\b\n",
            "10000/10000 [==============================] - 6s 576us/sample - loss: 0.4283 - acc: 0.9751\b\b\b\b\b\b\b\b\b\b\b\b\b\b\b\b\b\b\b\b\b\b\b\b\b\b\b\b\b\b\b\b\b\b\b\b\b\b\b\b\b\b\b\b\b\b\b\b\b\b\b\b\b\b\b\b\b\b\b\b\b\b\b\b\b\b\b\b\b\b\b\b\b\b\b\b\b\b\b\n"
          ]
        }
      ],
      "execution_count": 22,
      "metadata": {
        "colab_type": "code",
        "id": "MdDzI75PUXrG",
        "colab": {}
      }
    },
    {
      "cell_type": "markdown",
      "source": [
        "### Evaluate the model"
      ],
      "metadata": {
        "colab_type": "text",
        "id": "jKgyC5K_4O0d"
      }
    },
    {
      "cell_type": "code",
      "source": [
        "print(f\"Test accuracy {test_acc * 100:.2f} %\")"
      ],
      "outputs": [
        {
          "output_type": "stream",
          "name": "stdout",
          "text": [
            "Test accuracy 97.51 %\n"
          ]
        }
      ],
      "execution_count": 23,
      "metadata": {
        "colab_type": "code",
        "id": "0LvwaKhtUdOo",
        "colab": {}
      }
    },
    {
      "cell_type": "markdown",
      "source": [
        "As you can see, our simple binarized CNN has achieved a test accuracy of over 97.5 %. Not bad for a few lines of code!"
      ],
      "metadata": {
        "colab_type": "text",
        "id": "8cfJ8AR03gT5"
      }
    }
  ],
  "metadata": {
    "colab": {
      "name": "intro_to_cnns.ipynb",
      "version": "0.3.2",
      "provenance": [],
      "private_outputs": true,
      "collapsed_sections": [],
      "toc_visible": true
    },
    "kernelspec": {
      "name": "python3",
      "language": "python",
      "display_name": "Python 3"
    },
    "accelerator": "GPU",
    "kernel_info": {
      "name": "python3"
    },
    "language_info": {
      "name": "python",
      "version": "3.7.3",
      "mimetype": "text/x-python",
      "codemirror_mode": {
        "name": "ipython",
        "version": 3
      },
      "pygments_lexer": "ipython3",
      "nbconvert_exporter": "python",
      "file_extension": ".py"
    },
    "nteract": {
      "version": "0.13.0"
    }
  },
  "nbformat": 4,
  "nbformat_minor": 0
}
