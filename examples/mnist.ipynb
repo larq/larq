{
  "cells": [
    {
      "cell_type": "markdown",
      "source": [
        "# Binarized Convolutional Neural Networks"
      ],
      "metadata": {
        "id": "DSPCom-KmApV",
        "colab_type": "text"
      }
    },
    {
      "cell_type": "markdown",
      "source": [
        "This tutorial demonstrates training a simple Binarized Convolutional Neural Network to classify MNIST digits. This simple network will achieve over 98% accuracy on the MNIST test set. Because this tutorial uses XQuant and the [Keras Sequential API](https://www.tensorflow.org/guide/keras), creating and training our model will take just a few lines of code."
      ],
      "metadata": {
        "colab_type": "text",
        "id": "qLGkt5qiyz4E"
      }
    },
    {
      "cell_type": "markdown",
      "source": [
        "### Import TensorFlow and XQuant"
      ],
      "metadata": {
        "colab_type": "text",
        "id": "m7KBpffWzlxH"
      }
    },
    {
      "cell_type": "code",
      "source": [
        "import tensorflow as tf\n",
        "import xquant as xq"
      ],
      "outputs": [],
      "execution_count": 1,
      "metadata": {
        "colab_type": "code",
        "id": "iAve6DCL4JH4",
        "colab": {}
      }
    },
    {
      "cell_type": "markdown",
      "source": [
        "### Download and prepare the MNIST dataset"
      ],
      "metadata": {
        "colab_type": "text",
        "id": "jRFxccghyMVo"
      }
    },
    {
      "cell_type": "code",
      "source": [
        "(train_images, train_labels), (test_images, test_labels) = tf.keras.datasets.mnist.load_data()\n",
        "\n",
        "train_images = train_images.reshape((60000, 28, 28, 1))\n",
        "test_images = test_images.reshape((10000, 28, 28, 1))\n",
        "\n",
        "# Normalize pixel values to be between 0 and 1\n",
        "train_images, test_images = train_images / 255.0, test_images / 255.0"
      ],
      "outputs": [],
      "execution_count": 2,
      "metadata": {
        "colab_type": "code",
        "id": "JWoEqyMuXFF4",
        "colab": {}
      }
    },
    {
      "cell_type": "markdown",
      "source": [
        "### Create the model\n",
        "\nThis will create a simple binarized convolutional network trained using the straight-through estimator (STE)"
      ],
      "metadata": {
        "colab_type": "text",
        "id": "Oewp-wYg31t9"
      }
    },
    {
      "cell_type": "code",
      "source": [
        "kwargs = dict(input_quantizer=\"sign_clip_ste\", kernel_quantizer=\"sign_clip_ste\")\n",
        "\n",
        "model = tf.keras.models.Sequential()\n",
        "\n",
        "model.add(xq.layers.QuantConv2D(32, (3, 3), kernel_quantizer=\"sign_clip_ste\", use_bias=False, input_shape=(28, 28, 1)))\n",
        "model.add(tf.keras.layers.MaxPooling2D((2, 2)))\n",
        "model.add(tf.keras.layers.BatchNormalization(scale=False))\n",
        "\n",
        "model.add(xq.layers.QuantConv2D(64, (3, 3), use_bias=False, **kwargs))\n",
        "model.add(tf.keras.layers.MaxPooling2D((2, 2)))\n",
        "model.add(tf.keras.layers.BatchNormalization(scale=False))\n",
        "\n",
        "model.add(xq.layers.QuantConv2D(64, (3, 3), use_bias=False, **kwargs))\n",
        "model.add(tf.keras.layers.BatchNormalization(scale=False))\n",
        "model.add(tf.keras.layers.Flatten())\n",
        "\n",
        "model.add(xq.layers.QuantDense(10, use_bias=False, **kwargs))\n",
        "model.add(tf.keras.layers.BatchNormalization(scale=False))\n",
        "model.add(tf.keras.layers.Activation(\"softmax\"))"
      ],
      "outputs": [],
      "execution_count": 4,
      "metadata": {
        "colab_type": "code",
        "id": "L9YmGQBQPrdn",
        "colab": {}
      }
    },
    {
      "cell_type": "markdown",
      "source": [
        " Here's the complete architecture of our model.\n",
        " \n",
        " Almost all parameter of the network a binarized (either -1 or 1). This will make the network extremly fast when deployed on a embedded device that supports binarized neural networks."
      ],
      "metadata": {
        "colab_type": "text",
        "id": "lvDVFkg-2DPm"
      }
    },
    {
      "cell_type": "code",
      "source": [
        "model.summary()"
      ],
      "outputs": [
        {
          "output_type": "stream",
          "name": "stdout",
          "text": [
            "_________________________________________________________________\n",
            "Layer (type)                 Output Shape              Param #   \n",
            "=================================================================\n",
            "quant_conv2d_3 (QuantConv2D) (None, 26, 26, 32)        288       \n",
            "_________________________________________________________________\n",
            "max_pooling2d_2 (MaxPooling2 (None, 13, 13, 32)        0         \n",
            "_________________________________________________________________\n",
            "batch_normalization_v1_4 (Ba (None, 13, 13, 32)        96        \n",
            "_________________________________________________________________\n",
            "quant_conv2d_4 (QuantConv2D) (None, 11, 11, 64)        18432     \n",
            "_________________________________________________________________\n",
            "max_pooling2d_3 (MaxPooling2 (None, 5, 5, 64)          0         \n",
            "_________________________________________________________________\n",
            "batch_normalization_v1_5 (Ba (None, 5, 5, 64)          192       \n",
            "_________________________________________________________________\n",
            "quant_conv2d_5 (QuantConv2D) (None, 3, 3, 64)          36864     \n",
            "_________________________________________________________________\n",
            "batch_normalization_v1_6 (Ba (None, 3, 3, 64)          192       \n",
            "_________________________________________________________________\n",
            "flatten_1 (Flatten)          (None, 576)               0         \n",
            "_________________________________________________________________\n",
            "quant_dense_1 (QuantDense)   (None, 10)                5760      \n",
            "_________________________________________________________________\n",
            "batch_normalization_v1_7 (Ba (None, 10)                30        \n",
            "_________________________________________________________________\n",
            "activation_1 (Activation)    (None, 10)                0         \n",
            "=================================================================\n",
            "Total params: 61,854\n",
            "Trainable params: 61,514\n",
            "Non-trainable params: 340\n",
            "_________________________________________________________________\n"
          ]
        }
      ],
      "execution_count": 5,
      "metadata": {
        "colab_type": "code",
        "id": "8-C4XBg4UTJy",
        "colab": {}
      }
    },
    {
      "cell_type": "markdown",
      "source": [
        "### Compile and train the model\n",
        "\nNote: This may take a few minutes depending on your system."
      ],
      "metadata": {
        "colab_type": "text",
        "id": "P3odqfHP4M67"
      }
    },
    {
      "cell_type": "code",
      "source": [
        "model.compile(optimizer='adam',\n",
        "              loss='sparse_categorical_crossentropy',\n",
        "              metrics=['accuracy'])\n",
        "\nmodel.fit(train_images, train_labels, batch_size=64, epochs=6)"
      ],
      "outputs": [
        {
          "output_type": "stream",
          "name": "stdout",
          "text": [
            "Epoch 1/6\n",
            "60000/60000 [==============================] - 75s 1ms/sample - loss: 0.4950 - acc: 0.9700\b\b\b\b\b\b\b\b\b\b\b\b\b\b\b\b\b\b\b\b\b\b\b\b\b\b\b\b\b\b\b\b\b\b\b\b\b\b\b\b\b\b\b\b\b\b\b\b\b\b\b\b\b\b\b\b\b\b\b\b\b\b\b\b\b\b\b\b\b\b\b\b\b\b\b\b\b\b\b\b\n",
            "Epoch 2/6\n",
            "60000/60000 [==============================] - 74s 1ms/sample - loss: 0.4865 - acc: 0.9719\b\b\b\b\b\b\b\b\b\b\b\b\b\b\b\b\b\b\b\b\b\b\b\b\b\b\b\b\b\b\b\b\b\b\b\b\b\b\b\b\b\b\b\b\b\b\b\b\b\b\b\b\b\b\b\b\b\b\b\b\b\b\b\b\b\b\b\b\b\b\b\b\b\b\b\b\b\b\b\b\n",
            "Epoch 3/6\n",
            "60000/60000 [==============================] - 75s 1ms/sample - loss: 0.4806 - acc: 0.9736\b\b\b\b\b\b\b\b\b\b\b\b\b\b\b\b\b\b\b\b\b\b\b\b\b\b\b\b\b\b\b\b\b\b\b\b\b\b\b\b\b\b\b\b\b\b\b\b\b\b\b\b\b\b\b\b\b\b\b\b\b\b\b\b\b\b\b\b\b\b\b\b\b\b\b\b\b\b\b\b\n",
            "Epoch 4/6\n",
            "60000/60000 [==============================] - 80s 1ms/sample - loss: 0.4778 - acc: 0.9747\b\b\b\b\b\b\b\b\b\b\b\b\b\b\b\b\b\b\b\b\b\b\b\b\b\b\b\b\b\b\b\b\b\b\b\b\b\b\b\b\b\b\b\b\b\b\b\b\b\b\b\b\b\b\b\b\b\b\b\b\b\b\b\b\b\b\b\b\b\b\b\b\b\b\b\b\b\b\b\b\n",
            "Epoch 5/6\n",
            "60000/60000 [==============================] - 77s 1ms/sample - loss: 0.4750 - acc: 0.9751\b\b\b\b\b\b\b\b\b\b\b\b\b\b\b\b\b\b\b\b\b\b\b\b\b\b\b\b\b\b\b\b\b\b\b\b\b\b\b\b\b\b\b\b\b\b\b\b\b\b\b\b\b\b\b\b\b\b\b\b\b\b\b\b\b\b\b\b\b\b\b\b\b\b\b\b\b\b\b\b\n",
            "Epoch 6/6\n",
            "60000/60000 [==============================] - 80s 1ms/sample - loss: 0.4747 - acc: 0.9753\b\b\b\b\b\b\b\b\b\b\b\b\b\b\b\b\b\b\b\b\b\b\b\b\b\b\b\b\b\b\b\b\b\b\b\b\b\b\b\b\b\b\b\b\b\b\b\b\b\b\b\b\b\b\b\b\b\b\b\b\b\b\b\b\b\b\b\b\b\b\b\b\b\b\b\b\b\b\b\b\n"
          ]
        },
        {
          "output_type": "execute_result",
          "execution_count": 9,
          "data": {
            "text/plain": [
              "<tensorflow.python.keras.callbacks.History at 0x13c355198>"
            ]
          },
          "metadata": {}
        }
      ],
      "execution_count": 9,
      "metadata": {
        "colab_type": "code",
        "id": "MdDzI75PUXrG",
        "colab": {}
      }
    },
    {
      "cell_type": "markdown",
      "source": [
        "### Evaluate the model"
      ],
      "metadata": {
        "colab_type": "text",
        "id": "jKgyC5K_4O0d"
      }
    },
    {
      "cell_type": "code",
      "source": [
        "test_loss, test_acc = model.evaluate(test_images, test_labels)"
      ],
      "outputs": [
        {
          "output_type": "stream",
          "name": "stdout",
          "text": [
            "10000/10000 [==============================] - 3s 347us/sample - loss: 0.4468 - acc: 0.9800\b\b\b\b\b\b\b\b\b\b\b\b\b\b\b\b\b\b\b\b\b\b\b\b\b\b\b\b\b\b\b\b\b\b\b\b\b\b\b\b\b\b\b\b\b\b\b\b\b\b\b\b\b\b\b\b\b\b\b\b\b\b\b\b\b\b\b\b\b\b\b\b\b\b\b\b\b\n"
          ]
        }
      ],
      "execution_count": 10,
      "metadata": {
        "colab_type": "code",
        "id": "gtyDF0MKUcM7",
        "colab": {}
      }
    },
    {
      "cell_type": "code",
      "source": [
        "print(\"Test accuracy:\", test_acc, \"%\")"
      ],
      "outputs": [
        {
          "output_type": "stream",
          "name": "stdout",
          "text": [
            "Test accuracy: 0.98 %\n"
          ]
        }
      ],
      "execution_count": 12,
      "metadata": {
        "colab_type": "code",
        "id": "0LvwaKhtUdOo",
        "colab": {}
      }
    },
    {
      "cell_type": "markdown",
      "source": [
        "As you can see, our simple binarized CNN has achieved a test accuracy of over 98%. Not bad for a few lines of code!"
      ],
      "metadata": {
        "colab_type": "text",
        "id": "8cfJ8AR03gT5"
      }
    }
  ],
  "metadata": {
    "colab": {
      "name": "intro_to_cnns.ipynb",
      "version": "0.3.2",
      "provenance": [],
      "private_outputs": true,
      "collapsed_sections": [],
      "toc_visible": true
    },
    "kernelspec": {
      "name": "python3",
      "language": "python",
      "display_name": "Python 3"
    },
    "accelerator": "GPU",
    "kernel_info": {
      "name": "python3"
    },
    "language_info": {
      "name": "python",
      "version": "3.6.8",
      "mimetype": "text/x-python",
      "codemirror_mode": {
        "name": "ipython",
        "version": 3
      },
      "pygments_lexer": "ipython3",
      "nbconvert_exporter": "python",
      "file_extension": ".py"
    },
    "nteract": {
      "version": "0.12.3"
    }
  },
  "nbformat": 4,
  "nbformat_minor": 0
}