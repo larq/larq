{
 "cells": [
  {
   "cell_type": "markdown",
   "metadata": {},
   "source": [
    "# Binarynet on CIFAR10 (Advanced)\n",
    "\n",
    "## Run this notebook [![Binder](https://mybinder.org/badge_logo.svg)](https://mybinder.org/v2/gh/plumerai/larq/master?filepath=examples%2Fbinarynet_advanced_cifar10.ipynb)\n",
    "\n",
    "In this example we demonstrate how to use Larq to build BinaryNet for CIFAR10 to achieve a validation accuracy of around 90% using a heavy lifting GPU like a V100.\n",
    "On a V100 it takes approximately 250 minutes to train. Compared to the original papers, [BinaryConnect: Training Deep Neural Networks with binary weights during propagations](https://arxiv.org/abs/1511.00363), and [Binarized Neural Networks: Training Deep Neural Networks with Weights and Activations Constrained to +1 or -1](http://arxiv.org/abs/1602.02830), we do not implement image whitening, but we use image augmentation, and a stepped learning rate scheduler."
   ]
  },
  {
   "cell_type": "markdown",
   "metadata": {},
   "source": [
    "## Import Modules\n",
    "\n",
    "Let's first get our imports out of the way:"
   ]
  },
  {
   "cell_type": "code",
   "execution_count": 1,
   "metadata": {},
   "outputs": [],
   "source": [
    "import tensorflow as tf\n",
    "import larq as lq\n",
    "import numpy as np"
   ]
  },
  {
   "cell_type": "markdown",
   "metadata": {},
   "source": [
    "## Import CIFAR10 Dataset\n",
    "\n",
    "Here we download the CIFAR10 dataset:"
   ]
  },
  {
   "cell_type": "code",
   "execution_count": 2,
   "metadata": {},
   "outputs": [],
   "source": [
    "train_data, test_data = tf.keras.datasets.cifar10.load_data()"
   ]
  },
  {
   "cell_type": "markdown",
   "metadata": {},
   "source": [
    "Next, we define our image augmentation technqiues, and create the dataset:"
   ]
  },
  {
   "cell_type": "code",
   "execution_count": 1,
   "metadata": {},
   "outputs": [],
   "source": [
    "def resize_and_flip(image, labels, training):\n",
    "    image = tf.cast(image, tf.float32) / (255./2.) - 1.\n",
    "    if training:\n",
    "        image = tf.image.resize_image_with_crop_or_pad(image, 40, 40)\n",
    "        image = tf.random_crop(image, [32, 32, 3])\n",
    "        image = tf.image.random_flip_left_right(image)\n",
    "    return image, labels"
   ]
  },
  {
   "cell_type": "code",
   "execution_count": 4,
   "metadata": {},
   "outputs": [],
   "source": [
    "def create_dataset(data, batch_size, training):\n",
    "    images, labels = data\n",
    "    labels = tf.one_hot(np.squeeze(labels), 10)\n",
    "    dataset = tf.data.Dataset.from_tensor_slices((images, labels))\n",
    "    dataset = dataset.repeat()\n",
    "    if training:\n",
    "        dataset = dataset.shuffle(1000)\n",
    "    dataset = dataset.map(lambda x, y: resize_and_flip(x, y, training))\n",
    "    dataset = dataset.batch(batch_size)\n",
    "    return dataset"
   ]
  },
  {
   "cell_type": "code",
   "execution_count": 5,
   "metadata": {},
   "outputs": [],
   "source": [
    "batch_size = 50\n",
    "\n",
    "train_dataset = create_dataset(train_data, batch_size, True)\n",
    "test_dataset = create_dataset(test_data, batch_size, False)"
   ]
  },
  {
   "cell_type": "markdown",
   "metadata": {},
   "source": [
    "## Build Binarynet\n",
    "\n",
    "Here we build the binarynet model layer by layer using a keras sequential model:"
   ]
  },
  {
   "cell_type": "code",
   "execution_count": 6,
   "metadata": {},
   "outputs": [],
   "source": [
    "model = tf.keras.models.Sequential(\n",
    "    [\n",
    "        lq.layers.QuantConv2D(\n",
    "            128,\n",
    "            3,\n",
    "            kernel_quantizer=\"ste_sign\",\n",
    "            use_bias=False,\n",
    "            kernel_constraint=\"weight_clip\",\n",
    "            input_shape=(32, 32, 3),\n",
    "        ),\n",
    "        tf.keras.layers.BatchNormalization(momentum=0.999, scale=False),\n",
    "        lq.layers.QuantConv2D(\n",
    "            128,\n",
    "            3,\n",
    "            kernel_quantizer=\"ste_sign\",\n",
    "            input_quantizer=\"ste_sign\",\n",
    "            kernel_constraint=\"weight_clip\",\n",
    "            padding=\"same\",\n",
    "            use_bias=False,\n",
    "        ),\n",
    "        tf.keras.layers.MaxPool2D(pool_size=(2, 2), strides=(2, 2)),\n",
    "        tf.keras.layers.BatchNormalization(momentum=0.999, scale=False),\n",
    "        lq.layers.QuantConv2D(\n",
    "            256,\n",
    "            3,\n",
    "            kernel_quantizer=\"ste_sign\",\n",
    "            input_quantizer=\"ste_sign\",\n",
    "            kernel_constraint=\"weight_clip\",\n",
    "            padding=\"same\",\n",
    "            use_bias=False,\n",
    "        ),\n",
    "        tf.keras.layers.BatchNormalization(momentum=0.999, scale=False),\n",
    "        lq.layers.QuantConv2D(\n",
    "            256,\n",
    "            3,\n",
    "            kernel_quantizer=\"ste_sign\",\n",
    "            input_quantizer=\"ste_sign\",\n",
    "            kernel_constraint=\"weight_clip\",\n",
    "            padding=\"same\",\n",
    "            use_bias=False,\n",
    "        ),\n",
    "        tf.keras.layers.MaxPool2D(pool_size=(2, 2), strides=(2, 2)),\n",
    "        tf.keras.layers.BatchNormalization(momentum=0.999, scale=False),\n",
    "        lq.layers.QuantConv2D(\n",
    "            512,\n",
    "            3,\n",
    "            kernel_quantizer=\"ste_sign\",\n",
    "            input_quantizer=\"ste_sign\",\n",
    "            kernel_constraint=\"weight_clip\",\n",
    "            padding=\"same\",\n",
    "            use_bias=False,\n",
    "        ),\n",
    "        tf.keras.layers.BatchNormalization(momentum=0.999, scale=False),\n",
    "        lq.layers.QuantConv2D(\n",
    "            512,\n",
    "            3,\n",
    "            kernel_quantizer=\"ste_sign\",\n",
    "            input_quantizer=\"ste_sign\",\n",
    "            kernel_constraint=\"weight_clip\",\n",
    "            padding=\"same\",\n",
    "            use_bias=False,\n",
    "        ),\n",
    "        tf.keras.layers.MaxPool2D(pool_size=(2, 2), strides=(2, 2)),\n",
    "        tf.keras.layers.BatchNormalization(momentum=0.999, scale=False),\n",
    "        tf.keras.layers.Flatten(),\n",
    "        lq.layers.QuantDense(\n",
    "            1024,\n",
    "            kernel_quantizer=\"ste_sign\",\n",
    "            input_quantizer=\"ste_sign\",\n",
    "            kernel_constraint=\"weight_clip\",\n",
    "            use_bias=False,\n",
    "        ),\n",
    "        tf.keras.layers.BatchNormalization(momentum=0.999, scale=False),\n",
    "        lq.layers.QuantDense(\n",
    "            1024,\n",
    "            kernel_quantizer=\"ste_sign\",\n",
    "            input_quantizer=\"ste_sign\",\n",
    "            kernel_constraint=\"weight_clip\",\n",
    "            use_bias=False,\n",
    "        ),\n",
    "        tf.keras.layers.BatchNormalization(momentum=0.999, scale=False),\n",
    "        lq.layers.QuantDense(\n",
    "            10,\n",
    "            kernel_quantizer=\"ste_sign\",\n",
    "            input_quantizer=\"ste_sign\",\n",
    "            kernel_constraint=\"weight_clip\",\n",
    "            use_bias=False,\n",
    "        ),\n",
    "        tf.keras.layers.BatchNormalization(momentum=0.999, scale=False),\n",
    "        tf.keras.layers.Activation(\"softmax\"),\n",
    "    ]\n",
    ")\n"
   ]
  },
  {
   "cell_type": "markdown",
   "metadata": {},
   "source": [
    "Larq allows you to print a summary of the model that includes bit-precision information:"
   ]
  },
  {
   "cell_type": "code",
   "execution_count": 7,
   "metadata": {},
   "outputs": [
    {
     "name": "stdout",
     "output_type": "stream",
     "text": [
      "Layer                  Outputs              # 1-bit    # 32-bit\n",
      "---------------------  -----------------  ---------  ----------\n",
      "quant_conv2d           (-1, 30, 30, 128)       3456           0\n",
      "batch_normalization    (-1, 30, 30, 128)          0         384\n",
      "activation             (-1, 30, 30, 128)          0           0\n",
      "quant_conv2d_1         (-1, 30, 30, 128)     147456           0\n",
      "max_pooling2d          (-1, 15, 15, 128)          0           0\n",
      "batch_normalization_1  (-1, 15, 15, 128)          0         384\n",
      "activation_1           (-1, 15, 15, 128)          0           0\n",
      "quant_conv2d_2         (-1, 15, 15, 256)     294912           0\n",
      "batch_normalization_2  (-1, 15, 15, 256)          0         768\n",
      "activation_2           (-1, 15, 15, 256)          0           0\n",
      "quant_conv2d_3         (-1, 15, 15, 256)     589824           0\n",
      "max_pooling2d_1        (-1, 7, 7, 256)            0           0\n",
      "batch_normalization_3  (-1, 7, 7, 256)            0         768\n",
      "activation_3           (-1, 7, 7, 256)            0           0\n",
      "quant_conv2d_4         (-1, 7, 7, 512)      1179648           0\n",
      "batch_normalization_4  (-1, 7, 7, 512)            0        1536\n",
      "activation_4           (-1, 7, 7, 512)            0           0\n",
      "quant_conv2d_5         (-1, 7, 7, 512)      2359296           0\n",
      "max_pooling2d_2        (-1, 3, 3, 512)            0           0\n",
      "batch_normalization_5  (-1, 3, 3, 512)            0        1536\n",
      "flatten                (-1, 4608)                 0           0\n",
      "activation_5           (-1, 4608)                 0           0\n",
      "quant_dense            (-1, 1024)           4718592           0\n",
      "batch_normalization_6  (-1, 1024)                 0        3072\n",
      "activation_6           (-1, 1024)                 0           0\n",
      "quant_dense_1          (-1, 1024)           1048576           0\n",
      "batch_normalization_7  (-1, 1024)                 0        3072\n",
      "activation_7           (-1, 1024)                 0           0\n",
      "quant_dense_2          (-1, 10)               10240           0\n",
      "batch_normalization_8  (-1, 10)                   0          30\n",
      "activation_8           (-1, 10)                   0           0\n",
      "Total                                      10352000       11550\n",
      "\n",
      "Total params: 10363550\n",
      "Trainable params: 10355850\n",
      "Non-trainable params: 7700\n"
     ]
    }
   ],
   "source": [
    "lq.models.summary(model)"
   ]
  },
  {
   "cell_type": "markdown",
   "metadata": {},
   "source": [
    "## Model Training\n",
    "\n",
    "We compile and train the model as you are used to in Keras:"
   ]
  },
  {
   "cell_type": "code",
   "execution_count": 8,
   "metadata": {
    "scrolled": true
   },
   "outputs": [],
   "source": [
    "initial_lr = 1e-3\n",
    "var_decay = 1e-5\n",
    "\n",
    "model.compile(\n",
    "    optimizer=lq.optimizers.XavierLearningRateScaling(tf.keras.optimizers.Adam(lr=initial_lr,decay=var_decay),model),\n",
    "    loss=\"categorical_crossentropy\",\n",
    "    metrics=[\"accuracy\"],\n",
    ")"
   ]
  },
  {
   "cell_type": "code",
   "execution_count": null,
   "metadata": {
    "outputExpanded": true,
    "scrolled": true
   },
   "outputs": [],
   "source": [
    "trained_model=model.fit(\n",
    "    train_dataset,\n",
    "    epochs=500,\n",
    "    steps_per_epoch=train_data[1].shape[0] // batch_size,\n",
    "    validation_data=test_dataset,\n",
    "    validation_steps=test_data[1].shape[0] // batch_size,\n",
    "    verbose=1,\n",
    "    callbacks=[tf.keras.callbacks.LearningRateScheduler(lambda epoch: initial_lr * 0.1 ** (epoch // 100))]\n",
    ")"
   ]
  }
 ],
 "metadata": {
  "kernel_info": {
   "name": "python3"
  },
  "kernelspec": {
   "display_name": "Python 3",
   "language": "python",
   "name": "python3"
  },
  "language_info": {
   "codemirror_mode": {
    "name": "ipython",
    "version": 3
   },
   "file_extension": ".py",
   "mimetype": "text/x-python",
   "name": "python",
   "nbconvert_exporter": "python",
   "pygments_lexer": "ipython3",
   "version": "3.6.7"
  },
  "nteract": {
   "version": "0.13.0"
  }
 },
 "nbformat": 4,
 "nbformat_minor": 2
}
