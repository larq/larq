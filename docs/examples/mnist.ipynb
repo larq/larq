{
  "cells": [
    {
      "cell_type": "markdown",
      "source": [
        "# Introduction to BNNs with Larq\n",
        "\n",
        "<a href=\"https://mybinder.org/v2/gh/plumerai/larq/master?filepath=docs%2Fexamples%2Fmnist.ipynb\"><button data-md-color-primary=\"blue\">Run on Binder</button></a> <a href=\"https://github.com/plumerai/larq/blob/master/docs/examples/mnist.ipynb\"><button data-md-color-primary=\"blue\">View on GitHub</button></a>\n",
        "\n",
        "This tutorial demonstrates how to train a simple binarized Convolutional Neural Network (CNN) to classify MNIST digits. This simple network will achieve approximately 98% accuracy on the MNIST test set. This tutorial uses Larq and the [Keras Sequential API](https://www.tensorflow.org/guide/keras), so creating and training our model will require only a few lines of code."
      ],
      "metadata": {
        "colab_type": "text",
        "id": "qLGkt5qiyz4E"
      }
    },
    {
      "cell_type": "code",
      "source": [
        "import tensorflow as tf\n",
        "import larq as lq"
      ],
      "outputs": [],
      "execution_count": 1,
      "metadata": {
        "colab_type": "code",
        "id": "iAve6DCL4JH4",
        "colab": {}
      }
    },
    {
      "cell_type": "markdown",
      "source": [
        "### Download and prepare the MNIST dataset"
      ],
      "metadata": {
        "colab_type": "text",
        "id": "jRFxccghyMVo"
      }
    },
    {
      "cell_type": "code",
      "source": [
        "(train_images, train_labels), (test_images, test_labels) = tf.keras.datasets.mnist.load_data()\n",
        "\n",
        "train_images = train_images.reshape((60000, 28, 28, 1))\n",
        "test_images = test_images.reshape((10000, 28, 28, 1))\n",
        "\n",
        "# Normalize pixel values to be between -1 and 1\n",
        "train_images, test_images = train_images / 127.5 - 1, test_images / 127.5 - 1"
      ],
      "outputs": [],
      "execution_count": 2,
      "metadata": {
        "colab_type": "code",
        "id": "JWoEqyMuXFF4",
        "colab": {}
      }
    },
    {
      "cell_type": "markdown",
      "source": [
        "### Create the model\n",
        "\n",
        "The following will create a simple binarized CNN.\n",
        "\n",
        "The quantization function\n",
        "$$\n",
        "q(x) = \\begin{cases}\n",
        "    -1 & x < 0 \\\\\\\n",
        "    1 & x \\geq 0\n",
        "\\end{cases}\n",
        "$$\n",
        "is used in the forward pass to binarize the activations and the latent full precision weights. The gradient of this function is zero almost everywhere which prevents the model from learning.\n",
        "\n",
        "To be able to train the model the gradient is instead estimated using the Straight-Through Estimator (STE)\n",
        "(the binarization is essentially replaced by a clipped identity on the backward pass):\n",
        "$$\n",
        "\\frac{\\partial q(x)}{\\partial x} = \\begin{cases}\n",
        "    1 & \\left|x\\right| \\leq 1 \\\\\\\n",
        "    0 & \\left|x\\right| > 1\n",
        "\\end{cases}\n",
        "$$\n",
        "\n",
        "In Larq this can be done by using `input_quantizer=\"ste_sign\"` and `kernel_quantizer=\"ste_sign\"`.\n",
        "Additionally, the latent full precision weights are clipped to -1 and 1 using `kernel_constraint=\"weight_clip\"`."
      ],
      "metadata": {
        "colab_type": "text",
        "id": "Oewp-wYg31t9"
      }
    },
    {
      "cell_type": "code",
      "source": [
        "# All quantized layers except the first will use the same options\n",
        "kwargs = dict(input_quantizer=\"ste_sign\",\n",
        "              kernel_quantizer=\"ste_sign\",\n",
        "              kernel_constraint=\"weight_clip\")\n",
        "\n",
        "model = tf.keras.models.Sequential()\n",
        "\n",
        "# In the first layer we only quantize the weights and not the input\n",
        "model.add(lq.layers.QuantConv2D(32, (3, 3),\n",
        "                                kernel_quantizer=\"ste_sign\",\n",
        "                                kernel_constraint=\"weight_clip\",\n",
        "                                use_bias=False,\n",
        "                                input_shape=(28, 28, 1)))\n",
        "model.add(tf.keras.layers.MaxPooling2D((2, 2)))\n",
        "model.add(tf.keras.layers.BatchNormalization(scale=False))\n",
        "\n",
        "model.add(lq.layers.QuantConv2D(64, (3, 3), use_bias=False, **kwargs))\n",
        "model.add(tf.keras.layers.MaxPooling2D((2, 2)))\n",
        "model.add(tf.keras.layers.BatchNormalization(scale=False))\n",
        "\n",
        "model.add(lq.layers.QuantConv2D(64, (3, 3), use_bias=False, **kwargs))\n",
        "model.add(tf.keras.layers.BatchNormalization(scale=False))\n",
        "model.add(tf.keras.layers.Flatten())\n",
        "\n",
        "model.add(lq.layers.QuantDense(64, use_bias=False, **kwargs))\n",
        "model.add(tf.keras.layers.BatchNormalization(scale=False))\n",
        "model.add(lq.layers.QuantDense(10, use_bias=False, **kwargs))\n",
        "model.add(tf.keras.layers.BatchNormalization(scale=False))\n",
        "model.add(tf.keras.layers.Activation(\"softmax\"))"
      ],
      "outputs": [],
      "execution_count": 4,
      "metadata": {
        "colab_type": "code",
        "id": "L9YmGQBQPrdn",
        "colab": {}
      }
    },
    {
      "cell_type": "markdown",
      "source": [
        "Almost all parameters in the network are binarized, so either -1 or 1. This makes the network extremely fast if it would be deployed on custom BNN hardware.\n",
        "\n",
        " Here is the complete architecture of our model:"
      ],
      "metadata": {
        "colab_type": "text",
        "id": "lvDVFkg-2DPm"
      }
    },
    {
      "cell_type": "code",
      "source": [
        "lq.models.summary(model)"
      ],
      "outputs": [
        {
          "output_type": "stream",
          "name": "stdout",
          "text": [
            "Layer                     Outputs             # 1-bit    # 32-bit\n",
            "------------------------  ----------------  ---------  ----------\n",
            "quant_conv2d_3            (-1, 26, 26, 32)        288           0\n",
            "max_pooling2d_2           (-1, 13, 13, 32)          0           0\n",
            "batch_normalization_v1_5  (-1, 13, 13, 32)          0          96\n",
            "quant_conv2d_4            (-1, 11, 11, 64)      18432           0\n",
            "max_pooling2d_3           (-1, 5, 5, 64)            0           0\n",
            "batch_normalization_v1_6  (-1, 5, 5, 64)            0         192\n",
            "quant_conv2d_5            (-1, 3, 3, 64)        36864           0\n",
            "batch_normalization_v1_7  (-1, 3, 3, 64)            0         192\n",
            "flatten_1                 (-1, 576)                 0           0\n",
            "quant_dense_2             (-1, 64)              36864           0\n",
            "batch_normalization_v1_8  (-1, 64)                  0         192\n",
            "quant_dense_3             (-1, 10)                640           0\n",
            "batch_normalization_v1_9  (-1, 10)                  0          30\n",
            "activation_1              (-1, 10)                  0           0\n",
            "Total                                           93088         702\n",
            "\n",
            "Total params: 93790\n",
            "Trainable params: 93322\n",
            "Non-trainable params: 468\n"
          ]
        }
      ],
      "execution_count": 8,
      "metadata": {
        "colab_type": "code",
        "id": "8-C4XBg4UTJy",
        "colab": {}
      }
    },
    {
      "cell_type": "markdown",
      "source": [
        "### Compile and train the model\n",
        "\n",
        "Note: This may take a few minutes depending on your system."
      ],
      "metadata": {
        "colab_type": "text",
        "id": "P3odqfHP4M67"
      }
    },
    {
      "cell_type": "code",
      "source": [
        "model.compile(optimizer='adam',\n",
        "              loss='sparse_categorical_crossentropy',\n",
        "              metrics=['accuracy'])\n",
        "\n",
        "model.fit(train_images, train_labels, batch_size=64, epochs=6)\n",
        "\n",
        "test_loss, test_acc = model.evaluate(test_images, test_labels)"
      ],
      "outputs": [
        {
          "output_type": "stream",
          "name": "stdout",
          "text": [
            "Epoch 1/6\n",
            "60000/60000 [==============================] - 72s 1ms/sample - loss: 0.6494 - acc: 0.9070\b\b\b\b\b\b\b\b\b\b\b\b\b\b\b\b\b\b\b\b\b\b\b\b\b\b\b\b\b\b\b\b\b\b\b\b\b\b\b\b\b\b\b\b\b\b\b\b\b\b\b\b\b\b\b\b\b\b\b\b\b\b\b\b\b\b\b\b\b\b\b\b\b\b\b\b\b\b\b\b\b\b\n",
            "Epoch 2/6\n",
            "60000/60000 [==============================] - 67s 1ms/sample - loss: 0.4760 - acc: 0.9606\b\b\b\b\b\b\b\b\b\b\b\b\b\b\b\b\b\b\b\b\b\b\b\b\b\b\b\b\b\b\b\b\b\b\b\b\b\b\b\b\b\b\b\b\b\b\b\b\b\b\b\b\b\b\b\b\b\b\b\b\b\b\b\b\b\b\b\b\b\b\b\b\b\b\b\b\b\b\b\b\n",
            "Epoch 3/6\n",
            "60000/60000 [==============================] - 67s 1ms/sample - loss: 0.4480 - acc: 0.9691\b\b\b\b\b\b\b\b\b\b\b\b\b\b\b\b\b\b\b\b\b\b\b\b\b\b\b\b\b\b\b\b\b\b\b\b\b\b\b\b\b\b\b\b\b\b\b\b\b\b\b\b\b\b\b\b\b\b\b\b\b\b\b\b\b\b\b\b\b\b\b\b\b\b\b\b\b\b\b\b\n",
            "Epoch 4/6\n",
            "60000/60000 [==============================] - 68s 1ms/sample - loss: 0.4365 - acc: 0.9718\b\b\b\b\b\b\b\b\b\b\b\b\b\b\b\b\b\b\b\b\b\b\b\b\b\b\b\b\b\b\b\b\b\b\b\b\b\b\b\b\b\b\b\b\b\b\b\b\b\b\b\b\b\b\b\b\b\b\b\b\b\b\b\b\b\b\b\b\b\b\b\b\b\b\b\b\b\b\b\b\n",
            "Epoch 5/6\n",
            "60000/60000 [==============================] - 68s 1ms/sample - loss: 0.4329 - acc: 0.9739\b\b\b\b\b\b\b\b\b\b\b\b\b\b\b\b\b\b\b\b\b\b\b\b\b\b\b\b\b\b\b\b\b\b\b\b\b\b\b\b\b\b\b\b\b\b\b\b\b\b\b\b\b\b\b\b\b\b\b\b\b\b\b\b\b\b\b\b\b\b\b\b\b\b\b\b\b\b\b\b\n",
            "Epoch 6/6\n",
            "60000/60000 [==============================] - 68s 1ms/sample - loss: 0.4287 - acc: 0.9758\b\b\b\b\b\b\b\b\b\b\b\b\b\b\b\b\b\b\b\b\b\b\b\b\b\b\b\b\b\b\b\b\b\b\b\b\b\b\b\b\b\b\b\b\b\b\b\b\b\b\b\b\b\b\b\b\b\b\b\b\b\b\b\b\b\b\b\b\b\b\b\b\b\b\b\b\b\b\b\b\n",
            "10000/10000 [==============================] - 6s 576us/sample - loss: 0.4283 - acc: 0.9751\b\b\b\b\b\b\b\b\b\b\b\b\b\b\b\b\b\b\b\b\b\b\b\b\b\b\b\b\b\b\b\b\b\b\b\b\b\b\b\b\b\b\b\b\b\b\b\b\b\b\b\b\b\b\b\b\b\b\b\b\b\b\b\b\b\b\b\b\b\b\b\b\b\b\b\b\b\b\b\n"
          ]
        }
      ],
      "execution_count": 22,
      "metadata": {
        "colab_type": "code",
        "id": "MdDzI75PUXrG",
        "colab": {}
      }
    },
    {
      "cell_type": "markdown",
      "source": [
        "### Evaluate the model"
      ],
      "metadata": {
        "colab_type": "text",
        "id": "jKgyC5K_4O0d"
      }
    },
    {
      "cell_type": "code",
      "source": [
        "print(f\"Test accuracy {test_acc * 100:.2f} %\")"
      ],
      "outputs": [
        {
          "output_type": "stream",
          "name": "stdout",
          "text": [
            "Test accuracy 97.51 %\n"
          ]
        }
      ],
      "execution_count": 23,
      "metadata": {
        "colab_type": "code",
        "id": "0LvwaKhtUdOo",
        "colab": {}
      }
    },
    {
      "cell_type": "markdown",
      "source": [
        "As you can see, our simple binarized CNN has achieved a test accuracy of over 97.5 %. Not bad for a few lines of code!"
      ],
      "metadata": {
        "colab_type": "text",
        "id": "8cfJ8AR03gT5"
      }
    }
  ],
  "metadata": {
    "colab": {
      "name": "intro_to_cnns.ipynb",
      "version": "0.3.2",
      "provenance": [],
      "private_outputs": true,
      "collapsed_sections": [],
      "toc_visible": true
    },
    "kernelspec": {
      "name": "python3",
      "language": "python",
      "display_name": "Python 3"
    },
    "accelerator": "GPU",
    "kernel_info": {
      "name": "python3"
    },
    "language_info": {
      "name": "python",
      "version": "3.7.3",
      "mimetype": "text/x-python",
      "codemirror_mode": {
        "name": "ipython",
        "version": 3
      },
      "pygments_lexer": "ipython3",
      "nbconvert_exporter": "python",
      "file_extension": ".py"
    },
    "nteract": {
      "version": "0.14.3"
    }
  },
  "nbformat": 4,
  "nbformat_minor": 0
}